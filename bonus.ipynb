{
 "cells": [
  {
   "cell_type": "code",
   "execution_count": 17,
   "metadata": {},
   "outputs": [
    {
     "name": "stdout",
     "output_type": "stream",
     "text": [
      "[{'age': '87',\n",
      "  'eye_color': 'Emerald',\n",
      "  'films': ['https://ghibliapi.herokuapp.com/films/90b72513-afd4-4570-84de-a56c312fdf81'],\n",
      "  'gender': 'Male',\n",
      "  'hair_color': 'Grey',\n",
      "  'id': '3042818d-a8bb-4cba-8180-c19249822d57',\n",
      "  'name': 'Cat King',\n",
      "  'species': 'https://ghibliapi.herokuapp.com/species/603428ba-8a86-4b0b-a9f1-65df6abef3d3',\n",
      "  'url': 'https://ghibliapi.herokuapp.com/people/3042818d-a8bb-4cba-8180-c19249822d57'}]\n",
      "{'classification': 'Mammal',\n",
      " 'eye_colors': 'Brown, Black, Yellow, White, Emerald, Blue, Green',\n",
      " 'films': ['https://ghibliapi.herokuapp.com/films/58611129-2dbc-4a81-a72f-77ddfc1b1b49',\n",
      "           'https://ghibliapi.herokuapp.com/films/ea660b10-85c4-4ae3-8a5f-41cea3648e3e',\n",
      "           'https://ghibliapi.herokuapp.com/films/ff24da26-a969-4f0e-ba1e-a122ead6c6e3',\n",
      "           'https://ghibliapi.herokuapp.com/films/90b72513-afd4-4570-84de-a56c312fdf81',\n",
      "           'https://ghibliapi.herokuapp.com/films/2de9426b-914a-4a06-a3a0-5e6d9d3886f6',\n",
      "           'https://ghibliapi.herokuapp.com/films/790e0028-a31c-4626-a694-86b7a8cada40'],\n",
      " 'hair_colors': 'White, Black, Brown, Beige, Grey, Yellow',\n",
      " 'id': '603428ba-8a86-4b0b-a9f1-65df6abef3d3',\n",
      " 'name': 'Cat',\n",
      " 'people': ['https://ghibliapi.herokuapp.com/people/7151abc6-1a9e-4e6a-9711-ddb50ea572ec',\n",
      "            'https://ghibliapi.herokuapp.com/people/f467e18e-3694-409f-bdb3-be891ade1106',\n",
      "            'https://ghibliapi.herokuapp.com/people/89026b3a-abc4-4053-ab1a-c6d2eea68faa',\n",
      "            'https://ghibliapi.herokuapp.com/people/6b3facea-ea33-47b1-96ce-3fc737b119b8',\n",
      "            'https://ghibliapi.herokuapp.com/people/3042818d-a8bb-4cba-8180-c19249822d57',\n",
      "            'https://ghibliapi.herokuapp.com/people/58d1973f-f247-47d7-9358-e56cb0d2b5a6',\n",
      "            'https://ghibliapi.herokuapp.com/people/a3d8e70f-46a0-4e5a-b850-db01620d6b92',\n",
      "            'https://ghibliapi.herokuapp.com/people/fc196c4f-0201-4ed2-9add-c6403f7c4d32',\n",
      "            'https://ghibliapi.herokuapp.com/people/466bc926-2024-4653-ac63-fe52f2dc8c7b',\n",
      "            'https://ghibliapi.herokuapp.com/people/e9177769-9b6b-49c2-9820-d24f50b83ad9'],\n",
      " 'url': 'https://ghibliapi.herokuapp.com/species/603428ba-8a86-4b0b-a9f1-65df6abef3d3'}\n"
     ]
    }
   ],
   "source": [
    "import requests\n",
    "from pprint import pprint\n",
    "\n",
    "ghibli_people = \"https://ghibliapi.herokuapp.com/people\"\n",
    "\n",
    "ghibli_params = {\n",
    "    \"name\":\"Cat King\"\n",
    "}\n",
    "\n",
    "ghibli_response = requests.get(\n",
    "    url=ghibli_people, \n",
    "    params=ghibli_params\n",
    ")\n",
    "\n",
    "pprint(ghibli_response.json())\n",
    "\n",
    "cat_king_dict = ghibli_response.json()[0]\n",
    "cat_id = cat_king_dict[\"species\"]\n",
    "\n",
    "cat_response = requests.get(\n",
    "    url = cat_id\n",
    ")\n",
    "\n",
    "pprint(cat_response.json())\n",
    "\n"
   ]
  }
 ],
 "metadata": {
  "interpreter": {
   "hash": "daedd37eddb36cea1e5f8a3b1dc5cac20aafa2c63301180bded5ab456dcb6df2"
  },
  "kernelspec": {
   "display_name": "Python 3.7.13 ('venv': venv)",
   "language": "python",
   "name": "python3"
  },
  "language_info": {
   "codemirror_mode": {
    "name": "ipython",
    "version": 3
   },
   "file_extension": ".py",
   "mimetype": "text/x-python",
   "name": "python",
   "nbconvert_exporter": "python",
   "pygments_lexer": "ipython3",
   "version": "3.7.13"
  },
  "orig_nbformat": 4
 },
 "nbformat": 4,
 "nbformat_minor": 2
}
