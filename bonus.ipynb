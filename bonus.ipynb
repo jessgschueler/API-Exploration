{
 "cells": [
  {
   "cell_type": "code",
   "execution_count": 48,
   "metadata": {},
   "outputs": [
    {
     "name": "stdout",
     "output_type": "stream",
     "text": [
      "Jiji [\"Kiki's Delivery Service\"]\n",
      "Catbus ['My Neighbor Totoro']\n",
      "Niya ['Arrietty']\n",
      "Renaldo Moon aka Moon aka Muta ['The Cat Returns', 'Whisper of the Heart']\n",
      "Cat King ['The Cat Returns']\n",
      "Yuki ['The Cat Returns']\n",
      "Haru ['The Cat Returns']\n",
      "Baron Humbert von Gikkingen ['Whisper of the Heart', 'The Cat Returns']\n",
      "Natori ['The Cat Returns']\n",
      "Thomas ['Earwig and the Witch']\n"
     ]
    }
   ],
   "source": [
    "import requests\n",
    "from pprint import pprint\n",
    "import csv\n",
    "\n",
    "#set endpoint equal to variable\n",
    "ghibli_people = \"https://ghibliapi.herokuapp.com/people\"\n",
    "\n",
    "#pass search parameters of a known cat\n",
    "ghibli_params = {\n",
    "    \"name\":\"Cat King\"\n",
    "}\n",
    "#pass those parameters using requests\n",
    "ghibli_response = requests.get(\n",
    "    url=ghibli_people, \n",
    "    params=ghibli_params\n",
    ")\n",
    "#read json response as a dictionary, and pull id of species\n",
    "cat_king_dict = ghibli_response.json()[0]\n",
    "cat_id = cat_king_dict[\"species\"]\n",
    "\n",
    "#use the species id url to request all characters with that species id\n",
    "cat_response = requests.get(\n",
    "    url = cat_id\n",
    ")\n",
    "#read that json response as a dictionary and return list of unique id urls\n",
    "cats_dict = cat_response.json()\n",
    "all_cat_ids = cats_dict[\"people\"]\n",
    "\n",
    "#loop through list of cat ids to get the cats names and films\n",
    "for cat in all_cat_ids:\n",
    "    each_cat = requests.get(url=cat)\n",
    "    each_cat_dict = each_cat.json()\n",
    "    cat_name = each_cat_dict['name']\n",
    "    film_id = each_cat_dict['films']\n",
    "    #create empty list for film title values\n",
    "    film_list = []\n",
    "    #get film titles from film id urls by looping through films each cat appears in\n",
    "    for film in film_id:\n",
    "        film_response = requests.get(url = film)\n",
    "        film_dict = film_response.json()\n",
    "        film_name = film_dict['title']\n",
    "        #append those film titles to the empty list\n",
    "        film_list.append(film_name)\n",
    "    #print the cat's name and a list of every film they appear in\n",
    "    print(cat_name, film_list)\n",
    "\n",
    "#write cat data to CSV\n",
    "with open('ghibli_cats.csv', 'w') as csvfile:\n",
    "    for cat in all_cat_ids:\n",
    "        each_cat = requests.get(url=cat)\n",
    "        each_cat_dict = each_cat.json()\n",
    "        cat_file = csv.DictWriter(csvfile, fieldnames=each_cat_dict.keys())\n",
    "        if csvfile.tell() == 0:\n",
    "            cat_file.writeheader()\n",
    "        cat_file.writerow(each_cat_dict)"
   ]
  }
 ],
 "metadata": {
  "interpreter": {
   "hash": "daedd37eddb36cea1e5f8a3b1dc5cac20aafa2c63301180bded5ab456dcb6df2"
  },
  "kernelspec": {
   "display_name": "Python 3.7.13 ('venv': venv)",
   "language": "python",
   "name": "python3"
  },
  "language_info": {
   "codemirror_mode": {
    "name": "ipython",
    "version": 3
   },
   "file_extension": ".py",
   "mimetype": "text/x-python",
   "name": "python",
   "nbconvert_exporter": "python",
   "pygments_lexer": "ipython3",
   "version": "3.7.13"
  },
  "orig_nbformat": 4
 },
 "nbformat": 4,
 "nbformat_minor": 2
}
